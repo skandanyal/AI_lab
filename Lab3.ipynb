{
  "nbformat": 4,
  "nbformat_minor": 0,
  "metadata": {
    "colab": {
      "provenance": []
    },
    "kernelspec": {
      "name": "python3",
      "display_name": "Python 3"
    },
    "language_info": {
      "name": "python"
    }
  },
  "cells": [
    {
      "cell_type": "markdown",
      "source": [
        "# Question\n",
        "\n",
        "Implement a vaccum cleaner robot agent program for two rooms"
      ],
      "metadata": {
        "id": "3Sf3wpZW_Tqg"
      }
    },
    {
      "cell_type": "code",
      "execution_count": 2,
      "metadata": {
        "colab": {
          "base_uri": "https://localhost:8080/"
        },
        "id": "OghR3KwN_P5R",
        "outputId": "ab017854-0e3b-461b-f7d3-5b08f774c159"
      },
      "outputs": [
        {
          "output_type": "stream",
          "name": "stdout",
          "text": [
            "Before cleaning the room, It detected that the rooms were dirty\n",
            "[[1, 0, 0, 1], [1, 0, 1, 1], [1, 0, 0, 1], [0, 0, 0, 1]]\n",
            "vaccum is in the location :  0 0\n",
            "cleaned 0 0\n",
            "vaccum is in the location :  0 3\n",
            "cleaned 0 3\n",
            "vaccum is in the location :  1 0\n",
            "cleaned 1 0\n",
            "vaccum is in the location :  1 2\n",
            "cleaned 1 2\n",
            "vaccum is in the location :  1 3\n",
            "cleaned 1 3\n",
            "vaccum is in the location :  2 0\n",
            "cleaned 2 0\n",
            "vaccum is in the location :  2 3\n",
            "cleaned 2 3\n",
            "vaccum is in the location :  3 3\n",
            "cleaned 3 3\n",
            "room is clean now. thank for using the robot vaccum cleaner\n",
            "[[0, 0, 0, 0], [0, 0, 0, 0], [0, 0, 0, 0], [0, 0, 0, 0]]\n",
            "performance =  50.0 %\n"
          ]
        }
      ],
      "source": [
        "import random\n",
        "\n",
        "def display(room):\n",
        "        print(room)\n",
        "\n",
        "room = [\n",
        "    [1,1,1,1],\n",
        "    [1,1,1,1],\n",
        "    [1,1,1,1],\n",
        "    [1,1,1,1]\n",
        "]\n",
        "#print(\"All the rooms are dirty\")\n",
        "#display(room)\n",
        "\n",
        "x = 0\n",
        "y = 0\n",
        "\n",
        "while x < 4:\n",
        "    while y < 4:\n",
        "        room[x][y] = random.choice([0,1])\n",
        "        y += 1\n",
        "    x += 1\n",
        "    y = 0\n",
        "\n",
        "print(\"Before cleaning the room, It detected that the rooms were dirty\")\n",
        "display(room)\n",
        "\n",
        "x = 0\n",
        "y = 0\n",
        "z = 0\n",
        "\n",
        "#to clean the room\n",
        "while x < 4:\n",
        "    while y < 4:\n",
        "        if room[x][y] == 1:\n",
        "            print(\"vaccum is in the location : \" , x, y)\n",
        "            room[x][y] = 0\n",
        "            print(\"cleaned\" , x, y)\n",
        "            z += 1\n",
        "        y += 1\n",
        "    x += 1\n",
        "    y = 0\n",
        "\n",
        "\n",
        "performance = (100 - ((z/16) * 100))\n",
        "print(\"room is clean now. thank for using the robot vaccum cleaner\")\n",
        "display(room)\n",
        "print(\"performance = \" , performance,\"%\")"
      ]
    }
  ]
}