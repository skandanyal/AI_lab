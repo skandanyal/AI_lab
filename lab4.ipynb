{
  "nbformat": 4,
  "nbformat_minor": 0,
  "metadata": {
    "colab": {
      "provenance": []
    },
    "kernelspec": {
      "name": "python3",
      "display_name": "Python 3"
    },
    "language_info": {
      "name": "python"
    }
  },
  "cells": [
    {
      "cell_type": "markdown",
      "source": [
        "# Question\n",
        "\n",
        "Implement BFS and DFS on a given search space"
      ],
      "metadata": {
        "id": "hhN0zNY56wiF"
      }
    },
    {
      "cell_type": "code",
      "source": [
        "from collections import deque\n",
        "graph = {\n",
        "    'A' : ['B' , 'C'],\n",
        "    'B' : ['D' , 'E'],\n",
        "    'C' : ['F'],\n",
        "    'D' : [],\n",
        "    'E' : [],\n",
        "    'F' : []\n",
        "}"
      ],
      "metadata": {
        "id": "6AsOuNIK7Sri"
      },
      "execution_count": 1,
      "outputs": []
    },
    {
      "cell_type": "code",
      "execution_count": 2,
      "metadata": {
        "colab": {
          "base_uri": "https://localhost:8080/"
        },
        "id": "iCFdlbxLwTaX",
        "outputId": "d9fc3cb2-0492-4859-b416-66dbb864f69c"
      },
      "outputs": [
        {
          "output_type": "stream",
          "name": "stdout",
          "text": [
            "BFS Traversal Order : \n",
            "B D E "
          ]
        }
      ],
      "source": [
        "def bfs(graph , start_node):\n",
        "    #perform BFS\n",
        "    visited = set()#to keep track of visited node\n",
        "    queue = deque([start_node])\n",
        "    print(\"BFS Traversal Order : \")\n",
        "    while queue:\n",
        "        current_node = queue.popleft()\n",
        "\n",
        "        if current_node not in visited:\n",
        "            print(current_node,end = \" \")\n",
        "            visited.add(current_node)#mark the node visited\n",
        "\n",
        "        for neighbor in graph[current_node]:\n",
        "            if neighbor not in visited:\n",
        "                queue.append(neighbor)\n",
        "\n",
        "bfs(graph,'B')"
      ]
    },
    {
      "cell_type": "code",
      "source": [
        "def dfs_using_stack(graph, start_node):\n",
        "  \"\"\"\n",
        "  Perform depth-first-search using an explicit stack.\n",
        "  \"\"\"\n",
        "  stack = [start_node]                              # initialize stack with the start node\n",
        "  visited = set()                                   # track visited nodes\n",
        "\n",
        "  while stack:                                      # loop until stack is empty\n",
        "    node = stack.pop()                              # get the top node from the stack\n",
        "\n",
        "    if node not in visited:\n",
        "      print(node, end=' ')                          # print the node\n",
        "      visited.add(node)                             # mark as visited\n",
        "\n",
        "      for neighbour in reversed(graph[node]):       # add nodes to stack in reverse\n",
        "                                                    # order to ensure correct dfs traversal\n",
        "        if neighbour not in visited:\n",
        "          stack.append(neighbour)\n",
        "\n",
        "print(\"DFS Traversal Order (Using stack): \")        # call sfs starting from node 'A'\n",
        "dfs_using_stack(graph, 'A')"
      ],
      "metadata": {
        "colab": {
          "base_uri": "https://localhost:8080/"
        },
        "id": "icPufDjx30Z0",
        "outputId": "82ff173f-36c9-40a9-b043-320b4fa17e3d"
      },
      "execution_count": 5,
      "outputs": [
        {
          "output_type": "stream",
          "name": "stdout",
          "text": [
            "DFS Traversal Order (Using stack): \n",
            "A B D E C F "
          ]
        }
      ]
    }
  ]
}